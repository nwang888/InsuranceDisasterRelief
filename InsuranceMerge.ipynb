{
 "cells": [
  {
   "cell_type": "code",
   "execution_count": 1,
   "metadata": {},
   "outputs": [],
   "source": [
    "import pandas as pd"
   ]
  },
  {
   "cell_type": "code",
   "execution_count": 2,
   "metadata": {},
   "outputs": [
    {
     "name": "stdout",
     "output_type": "stream",
     "text": [
      "Active column created\n",
      "Dataframes merged\n",
      "Merged dataset saved to merged_data.csv\n"
     ]
    },
    {
     "name": "stderr",
     "output_type": "stream",
     "text": [
      "/var/folders/j_/yhyn0x8539z4_f_wyjv02c540000gn/T/ipykernel_12184/1305662627.py:18: SettingWithCopyWarning: \n",
      "A value is trying to be set on a copy of a slice from a DataFrame.\n",
      "Try using .loc[row_indexer,col_indexer] = value instead\n",
      "\n",
      "See the caveats in the documentation: https://pandas.pydata.org/pandas-docs/stable/user_guide/indexing.html#returning-a-view-versus-a-copy\n",
      "  df1_filtered.loc[:, 'Non-Renewed'] = df1_filtered['Insured-Initiated Nonrenewed'] + df1_filtered['Insurer-Initiated Nonrenewed']\n",
      "/var/folders/j_/yhyn0x8539z4_f_wyjv02c540000gn/T/ipykernel_12184/1305662627.py:21: SettingWithCopyWarning: \n",
      "A value is trying to be set on a copy of a slice from a DataFrame.\n",
      "Try using .loc[row_indexer,col_indexer] = value instead\n",
      "\n",
      "See the caveats in the documentation: https://pandas.pydata.org/pandas-docs/stable/user_guide/indexing.html#returning-a-view-versus-a-copy\n",
      "  df2_filtered.loc[:, 'Renewed'] = df2_filtered['Renewed'].str.strip().str.replace('-', '0').str.replace(',', '').astype(int)\n",
      "/var/folders/j_/yhyn0x8539z4_f_wyjv02c540000gn/T/ipykernel_12184/1305662627.py:21: DeprecationWarning: In a future version, `df.iloc[:, i] = newvals` will attempt to set the values inplace instead of always setting a new array. To retain the old behavior, use either `df[df.columns[i]] = newvals` or, if columns are non-unique, `df.isetitem(i, newvals)`\n",
      "  df2_filtered.loc[:, 'Renewed'] = df2_filtered['Renewed'].str.strip().str.replace('-', '0').str.replace(',', '').astype(int)\n",
      "/var/folders/j_/yhyn0x8539z4_f_wyjv02c540000gn/T/ipykernel_12184/1305662627.py:25: SettingWithCopyWarning: \n",
      "A value is trying to be set on a copy of a slice from a DataFrame.\n",
      "Try using .loc[row_indexer,col_indexer] = value instead\n",
      "\n",
      "See the caveats in the documentation: https://pandas.pydata.org/pandas-docs/stable/user_guide/indexing.html#returning-a-view-versus-a-copy\n",
      "  df2_filtered.loc[:, 'New'] = df2_filtered['New'].str.strip().str.replace('-', '0').str.replace(',', '').astype(int)\n",
      "/var/folders/j_/yhyn0x8539z4_f_wyjv02c540000gn/T/ipykernel_12184/1305662627.py:25: DeprecationWarning: In a future version, `df.iloc[:, i] = newvals` will attempt to set the values inplace instead of always setting a new array. To retain the old behavior, use either `df[df.columns[i]] = newvals` or, if columns are non-unique, `df.isetitem(i, newvals)`\n",
      "  df2_filtered.loc[:, 'New'] = df2_filtered['New'].str.strip().str.replace('-', '0').str.replace(',', '').astype(int)\n",
      "/var/folders/j_/yhyn0x8539z4_f_wyjv02c540000gn/T/ipykernel_12184/1305662627.py:29: SettingWithCopyWarning: \n",
      "A value is trying to be set on a copy of a slice from a DataFrame.\n",
      "Try using .loc[row_indexer,col_indexer] = value instead\n",
      "\n",
      "See the caveats in the documentation: https://pandas.pydata.org/pandas-docs/stable/user_guide/indexing.html#returning-a-view-versus-a-copy\n",
      "  df2_filtered.loc[:, 'Non-Renewed'] = df2_filtered['Non-Renewed'].str.strip().str.replace('-', '0').str.replace(',', '').astype(int)\n",
      "/var/folders/j_/yhyn0x8539z4_f_wyjv02c540000gn/T/ipykernel_12184/1305662627.py:29: DeprecationWarning: In a future version, `df.iloc[:, i] = newvals` will attempt to set the values inplace instead of always setting a new array. To retain the old behavior, use either `df[df.columns[i]] = newvals` or, if columns are non-unique, `df.isetitem(i, newvals)`\n",
      "  df2_filtered.loc[:, 'Non-Renewed'] = df2_filtered['Non-Renewed'].str.strip().str.replace('-', '0').str.replace(',', '').astype(int)\n",
      "/var/folders/j_/yhyn0x8539z4_f_wyjv02c540000gn/T/ipykernel_12184/1305662627.py:33: SettingWithCopyWarning: \n",
      "A value is trying to be set on a copy of a slice from a DataFrame\n",
      "\n",
      "See the caveats in the documentation: https://pandas.pydata.org/pandas-docs/stable/user_guide/indexing.html#returning-a-view-versus-a-copy\n",
      "  df1_filtered.fillna(0, inplace=True)\n",
      "/var/folders/j_/yhyn0x8539z4_f_wyjv02c540000gn/T/ipykernel_12184/1305662627.py:34: SettingWithCopyWarning: \n",
      "A value is trying to be set on a copy of a slice from a DataFrame\n",
      "\n",
      "See the caveats in the documentation: https://pandas.pydata.org/pandas-docs/stable/user_guide/indexing.html#returning-a-view-versus-a-copy\n",
      "  df2_filtered.fillna(0, inplace=True)\n",
      "/var/folders/j_/yhyn0x8539z4_f_wyjv02c540000gn/T/ipykernel_12184/1305662627.py:37: SettingWithCopyWarning: \n",
      "A value is trying to be set on a copy of a slice from a DataFrame.\n",
      "Try using .loc[row_indexer,col_indexer] = value instead\n",
      "\n",
      "See the caveats in the documentation: https://pandas.pydata.org/pandas-docs/stable/user_guide/indexing.html#returning-a-view-versus-a-copy\n",
      "  df1_filtered.loc[:, 'Active'] = df1_filtered['New'] + df1_filtered['Renewed']\n",
      "/var/folders/j_/yhyn0x8539z4_f_wyjv02c540000gn/T/ipykernel_12184/1305662627.py:38: SettingWithCopyWarning: \n",
      "A value is trying to be set on a copy of a slice from a DataFrame.\n",
      "Try using .loc[row_indexer,col_indexer] = value instead\n",
      "\n",
      "See the caveats in the documentation: https://pandas.pydata.org/pandas-docs/stable/user_guide/indexing.html#returning-a-view-versus-a-copy\n",
      "  df2_filtered.loc[:, 'Active'] = df2_filtered['New'] + df2_filtered['Renewed']\n"
     ]
    }
   ],
   "source": [
    "# Load the zip codes\n",
    "with open('data/zip-code-csv.txt', 'r') as file:\n",
    "    zipcodes = file.read().splitlines()\n",
    "\n",
    "# Load the CSV files\n",
    "df1 = pd.read_csv('data/Residential-Property-Voluntary-Market-New-Renew-NonRenew-by-ZIP-2015-2021.csv')\n",
    "df2 = pd.read_csv('data/Residential-Insurance-Voluntary-Market-New-Renew-NonRenew-by-ZIP-2020-2022.csv')\n",
    "\n",
    "# Filter data based on zip codes and time period\n",
    "df1_filtered = df1[(df1['ZIP Code'].astype(str).isin(zipcodes)) & (df1['Year'].between(2017, 2021))]\n",
    "df2_filtered = df2[(df2['ZIP Code'].astype(str).isin(zipcodes)) & (df2['Year'].between(2020, 2023))]\n",
    "\n",
    "# Filter data based on zip codes and time period\n",
    "df1_filtered = df1[(df1['ZIP Code'].astype(str).isin(zipcodes)) & (df1['Year'].between(2017, 2021))]\n",
    "df2_filtered = df2[(df2['ZIP Code'].astype(str).isin(zipcodes)) & (df2['Year'].between(2020, 2023))]\n",
    "\n",
    "# Merge non-renewed columns in the 2015-2021 sample\n",
    "df1_filtered.loc[:, 'Non-Renewed'] = df1_filtered['Insured-Initiated Nonrenewed'] + df1_filtered['Insurer-Initiated Nonrenewed']\n",
    "\n",
    "# Ensure the renewed column is numeric in the 2020-2022 file\n",
    "df2_filtered.loc[:, 'Renewed'] = df2_filtered['Renewed'].str.strip().str.replace('-', '0').str.replace(',', '').astype(int)\n",
    "# print(\"Renewed column converted to numeric in df2_filtered\")\n",
    "\n",
    "# Ensure the new column is numeric in the 2020-2022 file\n",
    "df2_filtered.loc[:, 'New'] = df2_filtered['New'].str.strip().str.replace('-', '0').str.replace(',', '').astype(int)\n",
    "# print(\"Renewed column converted to numeric in df2_filtered\")\n",
    "\n",
    "# Convert \"-\" to 0 in the Non-Renewed column and ensure it's numeric\n",
    "df2_filtered.loc[:, 'Non-Renewed'] = df2_filtered['Non-Renewed'].str.strip().str.replace('-', '0').str.replace(',', '').astype(int)\n",
    "# print(\"Non-Renewed column cleaned and converted to numeric in df2_filtered\")\n",
    "\n",
    "# Handle missing values by filling with 0\n",
    "df1_filtered.fillna(0, inplace=True)\n",
    "df2_filtered.fillna(0, inplace=True)\n",
    "\n",
    "# Create the active column\n",
    "df1_filtered.loc[:, 'Active'] = df1_filtered['New'] + df1_filtered['Renewed']\n",
    "df2_filtered.loc[:, 'Active'] = df2_filtered['New'] + df2_filtered['Renewed']\n",
    "print(\"Active column created\")\n",
    "\n",
    "# Merge the datasets\n",
    "merged_df = pd.concat([df1_filtered, df2_filtered], ignore_index=True).drop_duplicates()\n",
    "print(\"Dataframes merged\")\n",
    "\n",
    "# Save the merged dataset to a new CSV file\n",
    "merged_df.to_csv('merged_insurance_data.csv', index=False)\n",
    "print(\"Merged dataset saved to merged_data.csv\")"
   ]
  }
 ],
 "metadata": {
  "kernelspec": {
   "display_name": ".venv",
   "language": "python",
   "name": "python3"
  },
  "language_info": {
   "codemirror_mode": {
    "name": "ipython",
    "version": 3
   },
   "file_extension": ".py",
   "mimetype": "text/x-python",
   "name": "python",
   "nbconvert_exporter": "python",
   "pygments_lexer": "ipython3",
   "version": "3.10.5"
  }
 },
 "nbformat": 4,
 "nbformat_minor": 2
}
