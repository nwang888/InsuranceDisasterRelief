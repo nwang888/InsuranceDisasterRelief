{
 "cells": [
  {
   "cell_type": "code",
   "execution_count": 15,
   "metadata": {},
   "outputs": [],
   "source": [
    "import pandas as pd"
   ]
  },
  {
   "cell_type": "code",
   "execution_count": 16,
   "metadata": {},
   "outputs": [],
   "source": [
    "# Read the data, skipping the first 6 rows of hpi_zip5\n",
    "hpi_zip5 = pd.read_excel('data/hpi_zip5.xlsx', skiprows=6)\n",
    "zipcodesaffected = pd.read_csv('data/zip-code-csv.txt')"
   ]
  },
  {
   "cell_type": "code",
   "execution_count": 17,
   "metadata": {},
   "outputs": [
    {
     "name": "stdout",
     "output_type": "stream",
     "text": [
      "Index(['Zip Code'], dtype='object')\n",
      "Index(['Five-Digit ZIP Code', 'Year', 'Annual Change (%)', 'HPI',\n",
      "       'HPI with 1990 base', 'HPI with 2000 base'],\n",
      "      dtype='object')\n"
     ]
    }
   ],
   "source": [
    "print(zipcodesaffected.columns)\n",
    "print(hpi_zip5.columns)"
   ]
  },
  {
   "cell_type": "code",
   "execution_count": 22,
   "metadata": {},
   "outputs": [],
   "source": [
    "# Filter hpi_zip5 for years 2017 to 2023\n",
    "hpi_zip5_filtered = hpi_zip5[(hpi_zip5['Year'] >= 2017) & (hpi_zip5['Year'] <= 2023)]\n",
    "\n",
    "# Filter hpi_zip5 for zip codes in zipcodesaffected\n",
    "hpi_zip5_filtered = hpi_zip5_filtered[hpi_zip5_filtered['Five-Digit ZIP Code'].isin(zipcodesaffected['Zip Code'])]\n",
    "\n",
    "# Perform a left join to include all zip codes from zipcodesaffected\n",
    "merged_data = pd.merge(zipcodesaffected, hpi_zip5_filtered, left_on='Zip Code', right_on='Five-Digit ZIP Code', how='outer')\n",
    "\n",
    "# Remove the 'Five-Digit ZIP Code' column\n",
    "merged_data = merged_data.drop(columns=['Five-Digit ZIP Code'])\n",
    "\n",
    "# **Convert 'Year' and 'HPI' columns in merged_data to numeric**\n",
    "merged_data['Year'] = pd.to_numeric(merged_data['Year'], errors='coerce').astype('Int64')\n",
    "merged_data['HPI'] = pd.to_numeric(merged_data['HPI'], errors='coerce')\n",
    "merged_data['HPI with 2000 base'] = pd.to_numeric(merged_data['HPI'], errors='coerce')\n",
    "merged_data['Annual Change (%)'] = pd.to_numeric(merged_data['Annual Change (%)'], errors='coerce')\n",
    "\n",
    "# Save the merged data to a new CSV file\n",
    "merged_data.to_csv('data/HPI_ZIP_year_affected.csv', index=False)"
   ]
  },
  {
   "cell_type": "code",
   "execution_count": 12,
   "metadata": {},
   "outputs": [
    {
     "name": "stdout",
     "output_type": "stream",
     "text": [
      "Index(['Five-Digit ZIP Code', 'Year', 'Annual Change (%)', 'HPI',\n",
      "       'HPI with 1990 base', 'HPI with 2000 base', 'Zip Codes'],\n",
      "      dtype='object')\n"
     ]
    }
   ],
   "source": [
    "print(merged_data.columns)"
   ]
  },
  {
   "cell_type": "code",
   "execution_count": 13,
   "metadata": {},
   "outputs": [],
   "source": [
    "import matplotlib.pyplot as plt\n",
    "import seaborn as sns"
   ]
  },
  {
   "cell_type": "code",
   "execution_count": 14,
   "metadata": {},
   "outputs": [
    {
     "ename": "KeyError",
     "evalue": "'Affected'",
     "output_type": "error",
     "traceback": [
      "\u001b[0;31m---------------------------------------------------------------------------\u001b[0m",
      "\u001b[0;31mKeyError\u001b[0m                                  Traceback (most recent call last)",
      "File \u001b[0;32m~/Documents/n/nProg/InsuranceDisasterRelief/.venv/lib/python3.10/site-packages/pandas/core/indexes/base.py:3802\u001b[0m, in \u001b[0;36mIndex.get_loc\u001b[0;34m(self, key, method, tolerance)\u001b[0m\n\u001b[1;32m   3801\u001b[0m \u001b[38;5;28;01mtry\u001b[39;00m:\n\u001b[0;32m-> 3802\u001b[0m     \u001b[38;5;28;01mreturn\u001b[39;00m \u001b[38;5;28;43mself\u001b[39;49m\u001b[38;5;241;43m.\u001b[39;49m\u001b[43m_engine\u001b[49m\u001b[38;5;241;43m.\u001b[39;49m\u001b[43mget_loc\u001b[49m\u001b[43m(\u001b[49m\u001b[43mcasted_key\u001b[49m\u001b[43m)\u001b[49m\n\u001b[1;32m   3803\u001b[0m \u001b[38;5;28;01mexcept\u001b[39;00m \u001b[38;5;167;01mKeyError\u001b[39;00m \u001b[38;5;28;01mas\u001b[39;00m err:\n",
      "File \u001b[0;32m~/Documents/n/nProg/InsuranceDisasterRelief/.venv/lib/python3.10/site-packages/pandas/_libs/index.pyx:138\u001b[0m, in \u001b[0;36mpandas._libs.index.IndexEngine.get_loc\u001b[0;34m()\u001b[0m\n",
      "File \u001b[0;32m~/Documents/n/nProg/InsuranceDisasterRelief/.venv/lib/python3.10/site-packages/pandas/_libs/index.pyx:165\u001b[0m, in \u001b[0;36mpandas._libs.index.IndexEngine.get_loc\u001b[0;34m()\u001b[0m\n",
      "File \u001b[0;32mpandas/_libs/hashtable_class_helper.pxi:5745\u001b[0m, in \u001b[0;36mpandas._libs.hashtable.PyObjectHashTable.get_item\u001b[0;34m()\u001b[0m\n",
      "File \u001b[0;32mpandas/_libs/hashtable_class_helper.pxi:5753\u001b[0m, in \u001b[0;36mpandas._libs.hashtable.PyObjectHashTable.get_item\u001b[0;34m()\u001b[0m\n",
      "\u001b[0;31mKeyError\u001b[0m: 'Affected'",
      "\nThe above exception was the direct cause of the following exception:\n",
      "\u001b[0;31mKeyError\u001b[0m                                  Traceback (most recent call last)",
      "Cell \u001b[0;32mIn[14], line 9\u001b[0m\n\u001b[1;32m      6\u001b[0m zip_data \u001b[38;5;241m=\u001b[39m zip_data\u001b[38;5;241m.\u001b[39msort_values(by\u001b[38;5;241m=\u001b[39m\u001b[38;5;124m'\u001b[39m\u001b[38;5;124mYear\u001b[39m\u001b[38;5;124m'\u001b[39m)\n\u001b[1;32m      8\u001b[0m \u001b[38;5;66;03m# Get the 'affected' status for this zip code\u001b[39;00m\n\u001b[0;32m----> 9\u001b[0m affected_status \u001b[38;5;241m=\u001b[39m \u001b[43mzip_data\u001b[49m\u001b[43m[\u001b[49m\u001b[38;5;124;43m'\u001b[39;49m\u001b[38;5;124;43mAffected\u001b[39;49m\u001b[38;5;124;43m'\u001b[39;49m\u001b[43m]\u001b[49m\u001b[38;5;241m.\u001b[39miloc[\u001b[38;5;241m0\u001b[39m]\n\u001b[1;32m     11\u001b[0m \u001b[38;5;66;03m# Choose color based on 'affected' status\u001b[39;00m\n\u001b[1;32m     12\u001b[0m \u001b[38;5;28;01mif\u001b[39;00m affected_status \u001b[38;5;241m==\u001b[39m \u001b[38;5;124m'\u001b[39m\u001b[38;5;124mY\u001b[39m\u001b[38;5;124m'\u001b[39m:\n",
      "File \u001b[0;32m~/Documents/n/nProg/InsuranceDisasterRelief/.venv/lib/python3.10/site-packages/pandas/core/frame.py:3807\u001b[0m, in \u001b[0;36mDataFrame.__getitem__\u001b[0;34m(self, key)\u001b[0m\n\u001b[1;32m   3805\u001b[0m \u001b[38;5;28;01mif\u001b[39;00m \u001b[38;5;28mself\u001b[39m\u001b[38;5;241m.\u001b[39mcolumns\u001b[38;5;241m.\u001b[39mnlevels \u001b[38;5;241m>\u001b[39m \u001b[38;5;241m1\u001b[39m:\n\u001b[1;32m   3806\u001b[0m     \u001b[38;5;28;01mreturn\u001b[39;00m \u001b[38;5;28mself\u001b[39m\u001b[38;5;241m.\u001b[39m_getitem_multilevel(key)\n\u001b[0;32m-> 3807\u001b[0m indexer \u001b[38;5;241m=\u001b[39m \u001b[38;5;28;43mself\u001b[39;49m\u001b[38;5;241;43m.\u001b[39;49m\u001b[43mcolumns\u001b[49m\u001b[38;5;241;43m.\u001b[39;49m\u001b[43mget_loc\u001b[49m\u001b[43m(\u001b[49m\u001b[43mkey\u001b[49m\u001b[43m)\u001b[49m\n\u001b[1;32m   3808\u001b[0m \u001b[38;5;28;01mif\u001b[39;00m is_integer(indexer):\n\u001b[1;32m   3809\u001b[0m     indexer \u001b[38;5;241m=\u001b[39m [indexer]\n",
      "File \u001b[0;32m~/Documents/n/nProg/InsuranceDisasterRelief/.venv/lib/python3.10/site-packages/pandas/core/indexes/base.py:3804\u001b[0m, in \u001b[0;36mIndex.get_loc\u001b[0;34m(self, key, method, tolerance)\u001b[0m\n\u001b[1;32m   3802\u001b[0m     \u001b[38;5;28;01mreturn\u001b[39;00m \u001b[38;5;28mself\u001b[39m\u001b[38;5;241m.\u001b[39m_engine\u001b[38;5;241m.\u001b[39mget_loc(casted_key)\n\u001b[1;32m   3803\u001b[0m \u001b[38;5;28;01mexcept\u001b[39;00m \u001b[38;5;167;01mKeyError\u001b[39;00m \u001b[38;5;28;01mas\u001b[39;00m err:\n\u001b[0;32m-> 3804\u001b[0m     \u001b[38;5;28;01mraise\u001b[39;00m \u001b[38;5;167;01mKeyError\u001b[39;00m(key) \u001b[38;5;28;01mfrom\u001b[39;00m \u001b[38;5;21;01merr\u001b[39;00m\n\u001b[1;32m   3805\u001b[0m \u001b[38;5;28;01mexcept\u001b[39;00m \u001b[38;5;167;01mTypeError\u001b[39;00m:\n\u001b[1;32m   3806\u001b[0m     \u001b[38;5;66;03m# If we have a listlike key, _check_indexing_error will raise\u001b[39;00m\n\u001b[1;32m   3807\u001b[0m     \u001b[38;5;66;03m#  InvalidIndexError. Otherwise we fall through and re-raise\u001b[39;00m\n\u001b[1;32m   3808\u001b[0m     \u001b[38;5;66;03m#  the TypeError.\u001b[39;00m\n\u001b[1;32m   3809\u001b[0m     \u001b[38;5;28mself\u001b[39m\u001b[38;5;241m.\u001b[39m_check_indexing_error(key)\n",
      "\u001b[0;31mKeyError\u001b[0m: 'Affected'"
     ]
    }
   ],
   "source": [
    "# Plotting the data\n",
    "zip_codes = merged_data['Five-Digit ZIP Code'].unique()\n",
    "\n",
    "for zip_code in zip_codes:\n",
    "    zip_data = merged_data[merged_data['Five-Digit ZIP Code'] == zip_code]\n",
    "    zip_data = zip_data.sort_values(by='Year')\n",
    "\n",
    "    # Get the 'affected' status for this zip code\n",
    "    affected_status = zip_data['Affected'].iloc[0]\n",
    "\n",
    "    # Choose color based on 'affected' status\n",
    "    if affected_status == 'Y':\n",
    "        line_color = 'red'\n",
    "    else:\n",
    "        line_color = 'blue'\n",
    "\n",
    "    plt.figure(figsize=(10, 6))\n",
    "    plt.plot(zip_data['Year'], zip_data['HPI'], marker='o', linestyle='-', color=line_color)\n",
    "    plt.title(f\"HPI Trends for Zip Code {zip_code} (Affected: {affected_status})\")\n",
    "    plt.xlabel('Year')\n",
    "    plt.ylabel('House Price Index (HPI)')\n",
    "    plt.grid(True)\n",
    "    plt.tight_layout()\n",
    "    plt.savefig(f'data/HPI_Trends_Zip_Code/HPI_Trends_Zip_Code_{zip_code}.png')\n",
    "    plt.close()\n",
    "\n",
    "    plt.figure(figsize=(10, 6))\n",
    "    plt.plot(zip_data['Year'], zip_data['Annual Change (%)'], marker='o', linestyle='-', color=line_color)\n",
    "    plt.title(f\"HPI Trends for Zip Code {zip_code} (Affected: {affected_status})\")\n",
    "    plt.xlabel('Year')\n",
    "    plt.ylabel('HPI Growth (% Y/Y)')\n",
    "    plt.grid(True)\n",
    "    plt.tight_layout()\n",
    "    plt.savefig(f'data/HPI_Growth_Zip_Code/HPI_Growth_Zip_Code_{zip_code}.png')\n",
    "    plt.close()"
   ]
  }
 ],
 "metadata": {
  "kernelspec": {
   "display_name": ".venv",
   "language": "python",
   "name": "python3"
  },
  "language_info": {
   "codemirror_mode": {
    "name": "ipython",
    "version": 3
   },
   "file_extension": ".py",
   "mimetype": "text/x-python",
   "name": "python",
   "nbconvert_exporter": "python",
   "pygments_lexer": "ipython3",
   "version": "3.10.5"
  }
 },
 "nbformat": 4,
 "nbformat_minor": 2
}
