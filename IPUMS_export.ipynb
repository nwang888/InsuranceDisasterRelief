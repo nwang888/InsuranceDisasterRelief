{
 "cells": [
  {
   "cell_type": "code",
   "execution_count": 2,
   "metadata": {},
   "outputs": [
    {
     "ename": "ImportError",
     "evalue": "cannot import name 'UsaExtract' from 'ipumspy' (/Users/nwang888/Documents/n/nProg/InsuranceDisasterRelief/.venv/lib/python3.10/site-packages/ipumspy/__init__.py)",
     "output_type": "error",
     "traceback": [
      "\u001b[0;31m---------------------------------------------------------------------------\u001b[0m",
      "\u001b[0;31mImportError\u001b[0m                               Traceback (most recent call last)",
      "Cell \u001b[0;32mIn[2], line 1\u001b[0m\n\u001b[0;32m----> 1\u001b[0m \u001b[38;5;28;01mfrom\u001b[39;00m \u001b[38;5;21;01mipumspy\u001b[39;00m \u001b[38;5;28;01mimport\u001b[39;00m IpumsApiClient, UsaExtract, readers, ddi\n\u001b[1;32m      2\u001b[0m \u001b[38;5;28;01mfrom\u001b[39;00m \u001b[38;5;21;01mpathlib\u001b[39;00m \u001b[38;5;28;01mimport\u001b[39;00m Path\n",
      "\u001b[0;31mImportError\u001b[0m: cannot import name 'UsaExtract' from 'ipumspy' (/Users/nwang888/Documents/n/nProg/InsuranceDisasterRelief/.venv/lib/python3.10/site-packages/ipumspy/__init__.py)"
     ]
    }
   ],
   "source": [
    "from ipumspy import IpumsApiClient, UsaExtract, readers, ddi\n",
    "from pathlib import Path"
   ]
  },
  {
   "cell_type": "code",
   "execution_count": null,
   "metadata": {},
   "outputs": [],
   "source": [
    "# Replace with your actual API key\n",
    "IPUMS_API_KEY = \"your_api_key_here\"\n",
    "DOWNLOAD_DIR = Path(\"your_download_directory_path\")\n",
    "\n",
    "ipums = IpumsApiClient(IPUMS_API_KEY)\n",
    "\n",
    "# Define samples\n",
    "samples = [\n",
    "    \"us1970c\", \"us1970d\", \"us1980b\", \"us1990b\", \"us2000g\", \"us2006a\",\n",
    "    \"us2017a\", \"us2018a\", \"us2019a\", \"us2020a\", \"us2021a\", \"us2022a\"\n",
    "]\n",
    "\n",
    "# Define variables\n",
    "variables = [\n",
    "    \"YEAR\", \"SAMPLE\", \"SERIAL\", \"CBSERIAL\", \"HHWT\", \"CLUSTER\", \"STRATA\",\n",
    "    \"GQ\", \"REGION\", \"PERNUM\", \"PERWT\", \"FTOTINC\"\n",
    "]\n",
    "\n",
    "# Create the extract\n",
    "extract = UsaExtract(\n",
    "    samples,\n",
    "    variables,\n",
    "    data_format=\"csv\",\n",
    "    description=\"Pacific Division Extract\"\n",
    ")\n",
    "\n",
    "# Add filter for Pacific Division (REGION == 42)\n",
    "extract.add_filter(\"REGION\", \"42\")\n",
    "\n",
    "# Submit the extract\n",
    "ipums.submit_extract(extract)\n",
    "print(f\"Extract submitted with id {extract.extract_id}\")\n",
    "\n",
    "# Wait for the extract to finish\n",
    "ipums.wait_for_extract(extract)\n",
    "\n",
    "# Download the extract\n",
    "ipums.download_extract(extract, download_dir=DOWNLOAD_DIR)\n",
    "\n",
    "# Read the DDI and data\n",
    "ddi_file = list(DOWNLOAD_DIR.glob(\"*.xml\"))[0]\n",
    "ddi = readers.read_ipums_ddi(ddi_file)\n",
    "ipums_df = readers.read_microdata(ddi, DOWNLOAD_DIR / ddi.file_description.filename)\n",
    "\n",
    "print(ipums_df.head())"
   ]
  }
 ],
 "metadata": {
  "kernelspec": {
   "display_name": ".venv",
   "language": "python",
   "name": "python3"
  },
  "language_info": {
   "codemirror_mode": {
    "name": "ipython",
    "version": 3
   },
   "file_extension": ".py",
   "mimetype": "text/x-python",
   "name": "python",
   "nbconvert_exporter": "python",
   "pygments_lexer": "ipython3",
   "version": "3.10.5"
  }
 },
 "nbformat": 4,
 "nbformat_minor": 2
}
