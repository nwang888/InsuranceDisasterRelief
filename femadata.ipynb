{
 "cells": [
  {
   "cell_type": "code",
   "execution_count": 1,
   "metadata": {},
   "outputs": [
    {
     "name": "stdout",
     "output_type": "stream",
     "text": [
      "Renters Data:\n",
      "Empty DataFrame\n",
      "Columns: []\n",
      "Index: []\n",
      "\n",
      "Owners Data:\n",
      "Empty DataFrame\n",
      "Columns: []\n",
      "Index: []\n"
     ]
    }
   ],
   "source": [
    "import requests\n",
    "import pandas as pd\n",
    "\n",
    "# API endpoints\n",
    "renters_api_url = \"https://www.fema.gov/api/open/v2/HousingAssistanceRenters\"\n",
    "owners_api_url = \"https://www.fema.gov/api/open/v2/HousingAssistanceOwners\"\n",
    "\n",
    "# Disaster number\n",
    "disaster_number = 5376\n",
    "\n",
    "# Base parameters\n",
    "params_base = {\n",
    "    \"$filter\": f\"disasterNumber eq {disaster_number}\",\n",
    "    \"$format\": \"json\",\n",
    "    \"$top\": 1000,  # Number of records per request (max 1000)\n",
    "    \"$skip\": 0     # Records to skip (for pagination)\n",
    "}\n",
    "\n",
    "# Function to fetch data with pagination\n",
    "def fetch_data(api_url, params_base):\n",
    "    data_list = []\n",
    "    params = params_base.copy()\n",
    "    while True:\n",
    "        response = requests.get(api_url, params=params)\n",
    "        if response.status_code != 200:\n",
    "            print(f\"Error {response.status_code}: {response.text}\")\n",
    "            break\n",
    "        data = response.json()\n",
    "        # The key is the endpoint name\n",
    "        key = api_url.split('/')[-1]\n",
    "        if key in data:\n",
    "            records = data[key]\n",
    "            data_list.extend(records)\n",
    "            if len(records) < params[\"$top\"]:\n",
    "                # Fewer records returned means we're at the last page\n",
    "                break\n",
    "            else:\n",
    "                # Increment $skip for the next batch\n",
    "                params[\"$skip\"] += params[\"$top\"]\n",
    "        else:\n",
    "            print(\"No data found or unexpected response format.\")\n",
    "            break\n",
    "    return data_list\n",
    "\n",
    "# Fetch data for renters\n",
    "renters_data = fetch_data(renters_api_url, params_base)\n",
    "\n",
    "# Fetch data for owners\n",
    "owners_data = fetch_data(owners_api_url, params_base)\n",
    "\n",
    "# Convert to pandas DataFrames\n",
    "renters_df = pd.DataFrame(renters_data)\n",
    "owners_df = pd.DataFrame(owners_data)\n",
    "\n",
    "# Display the DataFrames\n",
    "print(\"Renters Data:\")\n",
    "print(renters_df.head())\n",
    "\n",
    "print(\"\\nOwners Data:\")\n",
    "print(owners_df.head())\n",
    "\n",
    "# Save DataFrames to CSV files if needed\n",
    "# renters_df.to_csv('HousingAssistanceRenters_5376.csv', index=False)\n",
    "# owners_df.to_csv('HousingAssistanceOwners_5376.csv', index=False)"
   ]
  }
 ],
 "metadata": {
  "kernelspec": {
   "display_name": ".venv",
   "language": "python",
   "name": "python3"
  },
  "language_info": {
   "codemirror_mode": {
    "name": "ipython",
    "version": 3
   },
   "file_extension": ".py",
   "mimetype": "text/x-python",
   "name": "python",
   "nbconvert_exporter": "python",
   "pygments_lexer": "ipython3",
   "version": "3.10.5"
  }
 },
 "nbformat": 4,
 "nbformat_minor": 2
}
